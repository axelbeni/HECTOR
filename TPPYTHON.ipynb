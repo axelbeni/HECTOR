{
  "nbformat": 4,
  "nbformat_minor": 0,
  "metadata": {
    "colab": {
      "provenance": [],
      "authorship_tag": "ABX9TyPsIddkUxAaXEyz5rQViaU1",
      "include_colab_link": true
    },
    "kernelspec": {
      "name": "python3",
      "display_name": "Python 3"
    },
    "language_info": {
      "name": "python"
    }
  },
  "cells": [
    {
      "cell_type": "markdown",
      "metadata": {
        "id": "view-in-github",
        "colab_type": "text"
      },
      "source": [
        "<a href=\"https://colab.research.google.com/github/axelbeni/HECTOR/blob/main/TPPYTHON.ipynb\" target=\"_parent\"><img src=\"https://colab.research.google.com/assets/colab-badge.svg\" alt=\"Open In Colab\"/></a>"
      ]
    },
    {
      "cell_type": "markdown",
      "source": [
        "TP1\n"
      ],
      "metadata": {
        "id": "oi4ZrFFIBEY8"
      }
    },
    {
      "cell_type": "markdown",
      "source": [
        "1 Affichez \"Bonjour le monde\""
      ],
      "metadata": {
        "id": "Q2CluwiwBd6a"
      }
    },
    {
      "cell_type": "code",
      "source": [
        "print(\"Bonjour le monde\")"
      ],
      "metadata": {
        "colab": {
          "base_uri": "https://localhost:8080/"
        },
        "id": "ROnMY7C4BMds",
        "outputId": "c22ca20a-5ca5-4792-a3bc-6a435b35a935"
      },
      "execution_count": 1,
      "outputs": [
        {
          "output_type": "stream",
          "name": "stdout",
          "text": [
            "Bonjour le monde\n"
          ]
        }
      ]
    },
    {
      "cell_type": "markdown",
      "source": [
        " 2. En mode console (sans fenêtre), proposez un petit menu"
      ],
      "metadata": {
        "id": "RDxbnY58B0m3"
      }
    },
    {
      "cell_type": "code",
      "source": [
        "\n",
        "!touch fileFortext.txt\n",
        "import os \n",
        "def choix1():\n",
        "  CURRENT_DIRECTORY = os.getcwd()\n",
        "  print(os.listdir(CURRENT_DIRECTORY))\n",
        "  fileName=input(\"enter your file name in the list below\")\n",
        "  return fileName\n",
        "\n",
        "def choix2(nomDuFichier,text):\n",
        "  with open(nomDuFichier,'a') as fic:\n",
        "    fic.write(text + \"\\n\")\n",
        "\n",
        "def choix3(fileName) :\n",
        "  with open(fileName,'r') as fic:\n",
        "    print(fic.read())\n",
        "\n",
        "def choix4(fileName):\n",
        "  with open(fileName,'a') as fic :\n",
        "    fic.truncate() \n",
        "\n",
        "print(\"menu\")\n",
        "print(\"1. Choisir un nom de fichier\")\n",
        "print(\"2. Ajouter un texte\")\n",
        "print(\"3. Afficher le fichier complet\")\n",
        "print(\"4. Vider le fichie\")\n",
        "print(\"9. Quitter le programme \")\n",
        "\n",
        "choix=int(input(\"saisissez votre choix:\"))\n",
        "fileName=''\n",
        "while(choix !=9):\n",
        "  if(choix==1):\n",
        "    fileName=choix1()\n",
        "  elif (choix==2):\n",
        "    text = input(\"taper le texte que vous vouler aujouter aux fichier :\")\n",
        "    choix2(fileName,text)\n",
        "  elif(choix==3):\n",
        "    choix3(fileName)\n",
        "  elif(choix==4):\n",
        "    choix4(fileName)\n",
        "  choix=int(input(\"saisissez votre choix:\"))\n",
        "\n",
        "\n",
        "\n"
      ],
      "metadata": {
        "id": "qRtoCmlFLkxw"
      },
      "execution_count": null,
      "outputs": []
    },
    {
      "cell_type": "markdown",
      "source": [
        "3 Concevoir une classe Date avec redéfinition (surcharge) de == ( __eq__ ) et de < ( __lt__ ) ; - Concevoir une classe Etudiant avec une méthode adresselec qui fabrique l'adresse électronique prenom.nom@etu.univ-tours.fr et une méthode âge ; - Lire le fichier fichetu.csv et constituer une liste d'objets Etudiant"
      ],
      "metadata": {
        "id": "xHZ9h6F4Ql3t"
      }
    },
    {
      "cell_type": "markdown",
      "source": [
        "Date"
      ],
      "metadata": {
        "id": "8xdxtaipShF7"
      }
    },
    {
      "cell_type": "code",
      "source": [
        "from prompt_toolkit.shortcuts.progress_bar.base import datetime\n",
        "class Date :\n",
        "  def __init__(self,year,month ,day):\n",
        "    self.year = year\n",
        "    self.month = month \n",
        "    self.day =day \n",
        "\n",
        "  def __eq__(self, date) -> bool:\n",
        "    return self.month == date.month and self.year == date.year and self.day == date.day \n",
        "\n",
        "  def __lt__(self,date) -> bool:\n",
        "    if(self.year == date.year) :\n",
        "      if(self.month== date.month):\n",
        "        return self.day < date.day\n",
        "      else :\n",
        "        return  self.month < date.month\n",
        "    else:\n",
        "      return self.year < date.year \n",
        "  "
      ],
      "metadata": {
        "id": "OmIIXq66QsWD"
      },
      "execution_count": null,
      "outputs": []
    },
    {
      "cell_type": "markdown",
      "source": [
        "ajout des test plus tart"
      ],
      "metadata": {
        "id": "OcqRGBZ2WIFb"
      }
    },
    {
      "cell_type": "markdown",
      "source": [
        "Construire une classe étudiant avec adresselec "
      ],
      "metadata": {
        "id": "NWLeKWAhWNTx"
      }
    },
    {
      "cell_type": "code",
      "source": [
        "class Etudiant :\n",
        "  def __init__(self,nom,prenom,dateDeNaissance):\n",
        "    self.nom = nom \n",
        "    self.prenom = prenom \n",
        "    self.addressElec =\"\"\n",
        "    self.dateDeNaissance =dateDeNaissance\n",
        "    self.age=0\n",
        "  def addressElec(self):\n",
        "    self.addressElec =\"{}.{}@etu.univ-tours.fr\".format(self.prenom,self.nom)\n",
        "\n",
        "  def age(self):\n",
        "    self.age =\n",
        "  "
      ],
      "metadata": {
        "id": "rCPlyzISWgAR"
      },
      "execution_count": null,
      "outputs": []
    },
    {
      "cell_type": "markdown",
      "source": [
        "Importer le fichier et tester "
      ],
      "metadata": {
        "id": "as_3bTDKYw_M"
      }
    }
  ]
}